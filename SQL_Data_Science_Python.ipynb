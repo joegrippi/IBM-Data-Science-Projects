{
 "cells": [
  {
   "cell_type": "code",
   "execution_count": 18,
   "metadata": {},
   "outputs": [
    {
     "name": "stdout",
     "output_type": "stream",
     "text": [
      "Requirement already satisfied: ibm_db in /opt/conda/envs/Python-3.9/lib/python3.9/site-packages (3.1.1)\n",
      "Requirement already satisfied: ibm_db_sa in /opt/conda/envs/Python-3.9/lib/python3.9/site-packages (0.3.7)\n",
      "Requirement already satisfied: sqlalchemy>=0.7.3 in /opt/conda/envs/Python-3.9/lib/python3.9/site-packages (from ibm_db_sa) (1.3.24)\n",
      "Requirement already satisfied: ibm-db>=2.0.0 in /opt/conda/envs/Python-3.9/lib/python3.9/site-packages (from ibm_db_sa) (3.1.1)\n",
      "Found existing installation: SQLAlchemy 1.3.24\n",
      "Uninstalling SQLAlchemy-1.3.24:\n",
      "  Successfully uninstalled SQLAlchemy-1.3.24\n",
      "Collecting sqlalchemy==1.3.24\n",
      "  Using cached SQLAlchemy-1.3.24-cp39-cp39-manylinux2010_x86_64.whl (1.3 MB)\n",
      "Installing collected packages: sqlalchemy\n",
      "Successfully installed sqlalchemy-1.3.24\n",
      "Requirement already satisfied: ipython-sql in /opt/conda/envs/Python-3.9/lib/python3.9/site-packages (0.4.0)\n",
      "Requirement already satisfied: ipython-genutils>=0.1.0 in /opt/conda/envs/Python-3.9/lib/python3.9/site-packages (from ipython-sql) (0.2.0)\n",
      "Requirement already satisfied: sqlparse in /opt/conda/envs/Python-3.9/lib/python3.9/site-packages (from ipython-sql) (0.4.2)\n",
      "Requirement already satisfied: sqlalchemy>=0.6.7 in /opt/conda/envs/Python-3.9/lib/python3.9/site-packages (from ipython-sql) (1.3.24)\n",
      "Requirement already satisfied: ipython>=1.0 in /opt/conda/envs/Python-3.9/lib/python3.9/site-packages (from ipython-sql) (7.29.0)\n",
      "Requirement already satisfied: prettytable<1 in /opt/conda/envs/Python-3.9/lib/python3.9/site-packages (from ipython-sql) (0.7.2)\n",
      "Requirement already satisfied: six in /opt/conda/envs/Python-3.9/lib/python3.9/site-packages (from ipython-sql) (1.15.0)\n",
      "Requirement already satisfied: pygments in /opt/conda/envs/Python-3.9/lib/python3.9/site-packages (from ipython>=1.0->ipython-sql) (2.10.0)\n",
      "Requirement already satisfied: pexpect>4.3 in /opt/conda/envs/Python-3.9/lib/python3.9/site-packages (from ipython>=1.0->ipython-sql) (4.8.0)\n",
      "Requirement already satisfied: pickleshare in /opt/conda/envs/Python-3.9/lib/python3.9/site-packages (from ipython>=1.0->ipython-sql) (0.7.5)\n",
      "Requirement already satisfied: prompt-toolkit!=3.0.0,!=3.0.1,<3.1.0,>=2.0.0 in /opt/conda/envs/Python-3.9/lib/python3.9/site-packages (from ipython>=1.0->ipython-sql) (3.0.20)\n",
      "Requirement already satisfied: decorator in /opt/conda/envs/Python-3.9/lib/python3.9/site-packages (from ipython>=1.0->ipython-sql) (5.1.0)\n",
      "Requirement already satisfied: setuptools>=18.5 in /opt/conda/envs/Python-3.9/lib/python3.9/site-packages (from ipython>=1.0->ipython-sql) (58.0.4)\n",
      "Requirement already satisfied: backcall in /opt/conda/envs/Python-3.9/lib/python3.9/site-packages (from ipython>=1.0->ipython-sql) (0.2.0)\n",
      "Requirement already satisfied: matplotlib-inline in /opt/conda/envs/Python-3.9/lib/python3.9/site-packages (from ipython>=1.0->ipython-sql) (0.1.2)\n",
      "Requirement already satisfied: traitlets>=4.2 in /opt/conda/envs/Python-3.9/lib/python3.9/site-packages (from ipython>=1.0->ipython-sql) (5.1.1)\n",
      "Requirement already satisfied: jedi>=0.16 in /opt/conda/envs/Python-3.9/lib/python3.9/site-packages (from ipython>=1.0->ipython-sql) (0.18.0)\n",
      "Requirement already satisfied: parso<0.9.0,>=0.8.0 in /opt/conda/envs/Python-3.9/lib/python3.9/site-packages (from jedi>=0.16->ipython>=1.0->ipython-sql) (0.8.3)\n",
      "Requirement already satisfied: ptyprocess>=0.5 in /opt/conda/envs/Python-3.9/lib/python3.9/site-packages (from pexpect>4.3->ipython>=1.0->ipython-sql) (0.7.0)\n",
      "Requirement already satisfied: wcwidth in /opt/conda/envs/Python-3.9/lib/python3.9/site-packages (from prompt-toolkit!=3.0.0,!=3.0.1,<3.1.0,>=2.0.0->ipython>=1.0->ipython-sql) (0.2.5)\n"
     ]
    }
   ],
   "source": [
    "# SQL_Data_Science_Python\n",
    "# Data for this project can be downloaded from the below\n",
    "# Chicago Socioeconomic Indicators - https://data.cityofchicago.org/Health-Human-Services/Census-Data-Selected-socioeconomic-indicators-in-C/kn9c-c2s2?utm_medium=Exinfluencer&utm_source=Exinfluencer&utm_content=000026UJ&utm_term=10006555&utm_id=NA-SkillsNetwork-Channel-SkillsNetworkCoursesIBMDeveloperSkillsNetworkDB0201ENSkillsNetwork20127838-2021-01-01\n",
    "# Chicago Public Schools - https://data.cityofchicago.org/Education/Chicago-Public-Schools-Progress-Report-Cards-2011-/9xs2-f89t?utm_medium=Exinfluencer&utm_source=Exinfluencer&utm_content=000026UJ&utm_term=10006555&utm_id=NA-SkillsNetwork-Channel-SkillsNetworkCoursesIBMDeveloperSkillsNetworkDB0201ENSkillsNetwork20127838-2021-01-01\n",
    "# Chicago Crime Data - https://data.cityofchicago.org/Public-Safety/Crimes-2001-to-present/ijzp-q8t2?utm_medium=Exinfluencer&utm_source=Exinfluencer&utm_content=000026UJ&utm_term=10006555&utm_id=NA-SkillsNetwork-Channel-SkillsNetworkCoursesIBMDeveloperSkillsNetworkDB0201ENSkillsNetwork20127838-2021-01-01\n",
    "\n",
    "# Ensure that all libraries are installed properly \n",
    "!pip install --upgrade ibm_db\n",
    "!pip install --upgrade ibm_db_sa\n",
    "!pip uninstall sqlalchemy==1.4 -y && pip install sqlalchemy==1.3.24\n",
    "!pip install ipython-sql\n",
    "\n",
    "import ibm_db\n",
    "import ibm_db_sa\n",
    "import sqlalchemy"
   ]
  },
  {
   "cell_type": "code",
   "execution_count": 19,
   "metadata": {},
   "outputs": [
    {
     "name": "stdout",
     "output_type": "stream",
     "text": [
      "The sql extension is already loaded. To reload it, use:\n",
      "  %reload_ext sql\n"
     ]
    }
   ],
   "source": [
    "%load_ext sql"
   ]
  },
  {
   "cell_type": "code",
   "execution_count": 21,
   "metadata": {},
   "outputs": [],
   "source": [
    "# Connet to DB to leverage DB Tables\n",
    "# %sql ibm_db_sa:// - enter your credentials        "
   ]
  },
  {
   "cell_type": "code",
   "execution_count": 22,
   "metadata": {},
   "outputs": [
    {
     "name": "stdout",
     "output_type": "stream",
     "text": [
      " * ibm_db_sa://rqy96889:***@19af6446-6171-4641-8aba-9dcff8e1b6ff.c1ogj3sd0tgtu0lqde00.databases.appdomain.cloud:30699/BLUDB\n",
      "Done.\n"
     ]
    },
    {
     "data": {
      "text/html": [
       "<table>\n",
       "    <tr>\n",
       "        <th>tabschema</th>\n",
       "        <th>tabname</th>\n",
       "        <th>create_time</th>\n",
       "    </tr>\n",
       "    <tr>\n",
       "        <td>RQY96889</td>\n",
       "        <td>CHICAGO_PUBLIC_SCHOOLS</td>\n",
       "        <td>2022-04-05 14:56:01.231758</td>\n",
       "    </tr>\n",
       "    <tr>\n",
       "        <td>RQY96889</td>\n",
       "        <td>INSTRUCTOR</td>\n",
       "        <td>2022-04-01 10:01:07.195845</td>\n",
       "    </tr>\n",
       "    <tr>\n",
       "        <td>RQY96889</td>\n",
       "        <td>PETSALE</td>\n",
       "        <td>2022-03-29 08:25:57.639797</td>\n",
       "    </tr>\n",
       "    <tr>\n",
       "        <td>RQY96889</td>\n",
       "        <td>EMPLOYEES</td>\n",
       "        <td>2022-03-29 14:32:57.099547</td>\n",
       "    </tr>\n",
       "    <tr>\n",
       "        <td>RQY96889</td>\n",
       "        <td>JOB_HISTORY</td>\n",
       "        <td>2022-03-29 14:32:57.212422</td>\n",
       "    </tr>\n",
       "    <tr>\n",
       "        <td>RQY96889</td>\n",
       "        <td>JOBS</td>\n",
       "        <td>2022-03-29 14:32:57.319543</td>\n",
       "    </tr>\n",
       "    <tr>\n",
       "        <td>RQY96889</td>\n",
       "        <td>DEPARTMENTS</td>\n",
       "        <td>2022-03-29 14:32:57.423676</td>\n",
       "    </tr>\n",
       "    <tr>\n",
       "        <td>RQY96889</td>\n",
       "        <td>LOCATIONS</td>\n",
       "        <td>2022-03-29 14:32:57.523441</td>\n",
       "    </tr>\n",
       "    <tr>\n",
       "        <td>RQY96889</td>\n",
       "        <td>PETRESCUE</td>\n",
       "        <td>2022-03-31 09:31:49.356747</td>\n",
       "    </tr>\n",
       "    <tr>\n",
       "        <td>RQY96889</td>\n",
       "        <td>INTERNATIONAL_STUDENT_TEST_SCORES</td>\n",
       "        <td>2022-04-02 10:21:24.940672</td>\n",
       "    </tr>\n",
       "    <tr>\n",
       "        <td>RQY96889</td>\n",
       "        <td>CHICAGO_SOCIOECONOMIC_DATA</td>\n",
       "        <td>2022-04-02 11:52:00.649136</td>\n",
       "    </tr>\n",
       "    <tr>\n",
       "        <td>RQY96889</td>\n",
       "        <td>SCHOOLS</td>\n",
       "        <td>2022-04-03 11:35:38.320856</td>\n",
       "    </tr>\n",
       "    <tr>\n",
       "        <td>RQY96889</td>\n",
       "        <td>CENSUS_DATA</td>\n",
       "        <td>2022-04-04 09:15:59.979705</td>\n",
       "    </tr>\n",
       "    <tr>\n",
       "        <td>RQY96889</td>\n",
       "        <td>CHICAGO_CRIME_DATA</td>\n",
       "        <td>2022-04-04 09:19:46.797970</td>\n",
       "    </tr>\n",
       "</table>"
      ],
      "text/plain": [
       "[('RQY96889', 'CHICAGO_PUBLIC_SCHOOLS', datetime.datetime(2022, 4, 5, 14, 56, 1, 231758)),\n",
       " ('RQY96889', 'INSTRUCTOR', datetime.datetime(2022, 4, 1, 10, 1, 7, 195845)),\n",
       " ('RQY96889', 'PETSALE', datetime.datetime(2022, 3, 29, 8, 25, 57, 639797)),\n",
       " ('RQY96889', 'EMPLOYEES', datetime.datetime(2022, 3, 29, 14, 32, 57, 99547)),\n",
       " ('RQY96889', 'JOB_HISTORY', datetime.datetime(2022, 3, 29, 14, 32, 57, 212422)),\n",
       " ('RQY96889', 'JOBS', datetime.datetime(2022, 3, 29, 14, 32, 57, 319543)),\n",
       " ('RQY96889', 'DEPARTMENTS', datetime.datetime(2022, 3, 29, 14, 32, 57, 423676)),\n",
       " ('RQY96889', 'LOCATIONS', datetime.datetime(2022, 3, 29, 14, 32, 57, 523441)),\n",
       " ('RQY96889', 'PETRESCUE', datetime.datetime(2022, 3, 31, 9, 31, 49, 356747)),\n",
       " ('RQY96889', 'INTERNATIONAL_STUDENT_TEST_SCORES', datetime.datetime(2022, 4, 2, 10, 21, 24, 940672)),\n",
       " ('RQY96889', 'CHICAGO_SOCIOECONOMIC_DATA', datetime.datetime(2022, 4, 2, 11, 52, 0, 649136)),\n",
       " ('RQY96889', 'SCHOOLS', datetime.datetime(2022, 4, 3, 11, 35, 38, 320856)),\n",
       " ('RQY96889', 'CENSUS_DATA', datetime.datetime(2022, 4, 4, 9, 15, 59, 979705)),\n",
       " ('RQY96889', 'CHICAGO_CRIME_DATA', datetime.datetime(2022, 4, 4, 9, 19, 46, 797970))]"
      ]
     },
     "execution_count": 22,
     "metadata": {},
     "output_type": "execute_result"
    }
   ],
   "source": [
    "# type in your query to retrieve list of all tables in the database for your db2 schema (username)\n",
    "%sql select TABSCHEMA, TABNAME, CREATE_TIME from SYSCAT.TABLES where TABSCHEMA='RQY96889'\n",
    "# %sql select COLNAME, TYPENAME, LENGTH from SYSCAT.COLUMNS where TABNAME = 'CHICAGO_CRIME_DATA'"
   ]
  },
  {
   "cell_type": "code",
   "execution_count": 23,
   "metadata": {},
   "outputs": [
    {
     "name": "stdout",
     "output_type": "stream",
     "text": [
      " * ibm_db_sa://rqy96889:***@19af6446-6171-4641-8aba-9dcff8e1b6ff.c1ogj3sd0tgtu0lqde00.databases.appdomain.cloud:30699/BLUDB\n",
      "Done.\n"
     ]
    },
    {
     "data": {
      "text/html": [
       "<table>\n",
       "    <tr>\n",
       "        <th>number_of_crimes</th>\n",
       "    </tr>\n",
       "    <tr>\n",
       "        <td>533</td>\n",
       "    </tr>\n",
       "</table>"
      ],
      "text/plain": [
       "[(533,)]"
      ]
     },
     "execution_count": 23,
     "metadata": {},
     "output_type": "execute_result"
    }
   ],
   "source": [
    "# Problem 1: Find the total number of crimes recorded in the CRIME table.\n",
    "\n",
    "%sql select COUNT(*) AS NUMBER_OF_CRIMES from CHICAGO_CRIME_DATA"
   ]
  },
  {
   "cell_type": "code",
   "execution_count": 17,
   "metadata": {},
   "outputs": [
    {
     "name": "stdout",
     "output_type": "stream",
     "text": [
      " * ibm_db_sa://rqy96889:***@19af6446-6171-4641-8aba-9dcff8e1b6ff.c1ogj3sd0tgtu0lqde00.databases.appdomain.cloud:30699/BLUDB\n",
      "Done.\n"
     ]
    },
    {
     "data": {
      "text/html": [
       "<table>\n",
       "    <tr>\n",
       "        <th>community_area_name</th>\n",
       "        <th>per_capita_income</th>\n",
       "    </tr>\n",
       "    <tr>\n",
       "        <td>West Garfield Park</td>\n",
       "        <td>10934</td>\n",
       "    </tr>\n",
       "    <tr>\n",
       "        <td>South Lawndale</td>\n",
       "        <td>10402</td>\n",
       "    </tr>\n",
       "    <tr>\n",
       "        <td>Fuller Park</td>\n",
       "        <td>10432</td>\n",
       "    </tr>\n",
       "    <tr>\n",
       "        <td>Riverdale</td>\n",
       "        <td>8201</td>\n",
       "    </tr>\n",
       "</table>"
      ],
      "text/plain": [
       "[('West Garfield Park', 10934),\n",
       " ('South Lawndale', 10402),\n",
       " ('Fuller Park', 10432),\n",
       " ('Riverdale', 8201)]"
      ]
     },
     "execution_count": 17,
     "metadata": {},
     "output_type": "execute_result"
    }
   ],
   "source": [
    "# Problem 2: List community areas with per capita income less than 11000.\n",
    "\n",
    "%sql select COMMUNITY_AREA_NAME, PER_CAPITA_INCOME from CENSUS_DATA \\\n",
    "    where PER_CAPITA_INCOME < 11000\n",
    "\n"
   ]
  },
  {
   "cell_type": "code",
   "execution_count": 34,
   "metadata": {},
   "outputs": [
    {
     "name": "stdout",
     "output_type": "stream",
     "text": [
      " * ibm_db_sa://rqy96889:***@19af6446-6171-4641-8aba-9dcff8e1b6ff.c1ogj3sd0tgtu0lqde00.databases.appdomain.cloud:30699/BLUDB\n",
      "Done.\n"
     ]
    },
    {
     "data": {
      "text/html": [
       "<table>\n",
       "    <tr>\n",
       "        <th>case_number</th>\n",
       "    </tr>\n",
       "    <tr>\n",
       "        <td>HL266884</td>\n",
       "    </tr>\n",
       "    <tr>\n",
       "        <td>HK238408</td>\n",
       "    </tr>\n",
       "</table>"
      ],
      "text/plain": [
       "[('HL266884',), ('HK238408',)]"
      ]
     },
     "execution_count": 34,
     "metadata": {},
     "output_type": "execute_result"
    }
   ],
   "source": [
    "# Problem 3: List all case numbers for crimes involving minors.\n",
    "# CASE_NUMBER, PRIMARY_TYPE (OFFENSE INVOLVING CHILDREN = OFFENSE INVOLVING CHILDREN OR KIDNAPPING , DESCRIPTION (CHILD ABDUCTION/STRANGER)  - CHICAGO_CRIME_DATA\n",
    "\n",
    "%sql select CASE_NUMBER from CHICAGO_CRIME_DATA where DESCRIPTION like '%MINOR%'\n"
   ]
  },
  {
   "cell_type": "code",
   "execution_count": 39,
   "metadata": {},
   "outputs": [
    {
     "name": "stdout",
     "output_type": "stream",
     "text": [
      " * ibm_db_sa://rqy96889:***@19af6446-6171-4641-8aba-9dcff8e1b6ff.c1ogj3sd0tgtu0lqde00.databases.appdomain.cloud:30699/BLUDB\n",
      "Done.\n"
     ]
    },
    {
     "data": {
      "text/html": [
       "<table>\n",
       "    <tr>\n",
       "        <th>case_number</th>\n",
       "        <th>primary_type</th>\n",
       "        <th>description</th>\n",
       "    </tr>\n",
       "    <tr>\n",
       "        <td>HN144152</td>\n",
       "        <td>KIDNAPPING</td>\n",
       "        <td>CHILD ABDUCTION/STRANGER</td>\n",
       "    </tr>\n",
       "</table>"
      ],
      "text/plain": [
       "[('HN144152', 'KIDNAPPING', 'CHILD ABDUCTION/STRANGER')]"
      ]
     },
     "execution_count": 39,
     "metadata": {},
     "output_type": "execute_result"
    }
   ],
   "source": [
    "# Problem 4: List all kidnapping crimes involving a child?(children are not considered minors for the purposes of crime analysis)\n",
    "\n",
    "%sql select CASE_NUMBER, PRIMARY_TYPE, DESCRIPTION from CHICAGO_CRIME_DATA where PRIMARY_TYPE = 'KIDNAPPING'\n"
   ]
  },
  {
   "cell_type": "code",
   "execution_count": 46,
   "metadata": {},
   "outputs": [
    {
     "name": "stdout",
     "output_type": "stream",
     "text": [
      " * ibm_db_sa://rqy96889:***@19af6446-6171-4641-8aba-9dcff8e1b6ff.c1ogj3sd0tgtu0lqde00.databases.appdomain.cloud:30699/BLUDB\n",
      "Done.\n"
     ]
    },
    {
     "data": {
      "text/html": [
       "<table>\n",
       "    <tr>\n",
       "        <th>primary_type</th>\n",
       "    </tr>\n",
       "    <tr>\n",
       "        <td>ASSAULT</td>\n",
       "    </tr>\n",
       "    <tr>\n",
       "        <td>BATTERY</td>\n",
       "    </tr>\n",
       "    <tr>\n",
       "        <td>CRIMINAL DAMAGE</td>\n",
       "    </tr>\n",
       "    <tr>\n",
       "        <td>CRIMINAL TRESPA</td>\n",
       "    </tr>\n",
       "    <tr>\n",
       "        <td>NARCOTICS</td>\n",
       "    </tr>\n",
       "    <tr>\n",
       "        <td>PUBLIC PEACE VI</td>\n",
       "    </tr>\n",
       "</table>"
      ],
      "text/plain": [
       "[('ASSAULT',),\n",
       " ('BATTERY',),\n",
       " ('CRIMINAL DAMAGE',),\n",
       " ('CRIMINAL TRESPA',),\n",
       " ('NARCOTICS',),\n",
       " ('PUBLIC PEACE VI',)]"
      ]
     },
     "execution_count": 46,
     "metadata": {},
     "output_type": "execute_result"
    }
   ],
   "source": [
    "# Problem 5: What kind of crimes were recorded at schools?\n",
    "\n",
    "%sql select DISTINCT PRIMARY_TYPE from CHICAGO_CRIME_DATA where LOCATION_DESCRIPTION like '%SCHOOL%'\n",
    "\n"
   ]
  },
  {
   "cell_type": "code",
   "execution_count": 24,
   "metadata": {},
   "outputs": [
    {
     "name": "stdout",
     "output_type": "stream",
     "text": [
      " * ibm_db_sa://rqy96889:***@19af6446-6171-4641-8aba-9dcff8e1b6ff.c1ogj3sd0tgtu0lqde00.databases.appdomain.cloud:30699/BLUDB\n",
      "Done.\n"
     ]
    },
    {
     "data": {
      "text/html": [
       "<table>\n",
       "    <tr>\n",
       "        <th>Elementary, Middle, or High School</th>\n",
       "        <th>average_safety_score</th>\n",
       "    </tr>\n",
       "    <tr>\n",
       "        <td>ES</td>\n",
       "        <td>49</td>\n",
       "    </tr>\n",
       "    <tr>\n",
       "        <td>HS</td>\n",
       "        <td>49</td>\n",
       "    </tr>\n",
       "    <tr>\n",
       "        <td>MS</td>\n",
       "        <td>48</td>\n",
       "    </tr>\n",
       "</table>"
      ],
      "text/plain": [
       "[('ES', 49), ('HS', 49), ('MS', 48)]"
      ]
     },
     "execution_count": 24,
     "metadata": {},
     "output_type": "execute_result"
    }
   ],
   "source": [
    "# Problem 6: List the average safety score for all types of schools.\n",
    "# Without Altering Data type.\n",
    "\n",
    "%sql SELECT \"Elementary, Middle, or High School\",AVG(SAFETY_SCORE) AS AVERAGE_SAFETY_SCORE \\\n",
    "from CHICAGO_PUBLIC_SCHOOLS \\\n",
    "group by \"Elementary, Middle, or High School\";"
   ]
  },
  {
   "cell_type": "code",
   "execution_count": 25,
   "metadata": {},
   "outputs": [
    {
     "name": "stdout",
     "output_type": "stream",
     "text": [
      " * ibm_db_sa://rqy96889:***@19af6446-6171-4641-8aba-9dcff8e1b6ff.c1ogj3sd0tgtu0lqde00.databases.appdomain.cloud:30699/BLUDB\n",
      "Done.\n"
     ]
    },
    {
     "data": {
      "text/html": [
       "<table>\n",
       "    <tr>\n",
       "        <th>community_area_name</th>\n",
       "        <th>percent_households_below_poverty</th>\n",
       "    </tr>\n",
       "    <tr>\n",
       "        <td>Riverdale</td>\n",
       "        <td>56.5</td>\n",
       "    </tr>\n",
       "    <tr>\n",
       "        <td>Fuller Park</td>\n",
       "        <td>51.2</td>\n",
       "    </tr>\n",
       "    <tr>\n",
       "        <td>Englewood</td>\n",
       "        <td>46.6</td>\n",
       "    </tr>\n",
       "    <tr>\n",
       "        <td>North Lawndale</td>\n",
       "        <td>43.1</td>\n",
       "    </tr>\n",
       "    <tr>\n",
       "        <td>East Garfield Park</td>\n",
       "        <td>42.4</td>\n",
       "    </tr>\n",
       "</table>"
      ],
      "text/plain": [
       "[('Riverdale', Decimal('56.5')),\n",
       " ('Fuller Park', Decimal('51.2')),\n",
       " ('Englewood', Decimal('46.6')),\n",
       " ('North Lawndale', Decimal('43.1')),\n",
       " ('East Garfield Park', Decimal('42.4'))]"
      ]
     },
     "execution_count": 25,
     "metadata": {},
     "output_type": "execute_result"
    }
   ],
   "source": [
    "# Problem 7: List 5 community areas with highest % of households below poverty line.\n",
    "\n",
    "%sql select COMMUNITY_AREA_NAME, PERCENT_HOUSEHOLDS_BELOW_POVERTY from CENSUS_DATA \\\n",
    "    order by PERCENT_HOUSEHOLDS_BELOW_POVERTY desc nulls last limit 5"
   ]
  },
  {
   "cell_type": "code",
   "execution_count": 55,
   "metadata": {},
   "outputs": [
    {
     "name": "stdout",
     "output_type": "stream",
     "text": [
      " * ibm_db_sa://rqy96889:***@19af6446-6171-4641-8aba-9dcff8e1b6ff.c1ogj3sd0tgtu0lqde00.databases.appdomain.cloud:30699/BLUDB\n",
      "Done.\n"
     ]
    },
    {
     "data": {
      "text/html": [
       "<table>\n",
       "    <tr>\n",
       "        <th>community_area_number</th>\n",
       "        <th>crimes_reported</th>\n",
       "    </tr>\n",
       "    <tr>\n",
       "        <td>25</td>\n",
       "        <td>43</td>\n",
       "    </tr>\n",
       "</table>"
      ],
      "text/plain": [
       "[(25, 43)]"
      ]
     },
     "execution_count": 55,
     "metadata": {},
     "output_type": "execute_result"
    }
   ],
   "source": [
    "# Problem 8: Which community area(number) is most crime prone?\n",
    "\n",
    "%sql select COMMUNITY_AREA_NUMBER, COUNT(COMMUNITY_AREA_NUMBER) as CRIMES_REPORTED from CHICAGO_CRIME_DATA \\\n",
    "group by COMMUNITY_AREA_NUMBER \\\n",
    "order by Crimes_Reported DESC \\\n",
    "limit 1\n"
   ]
  },
  {
   "cell_type": "code",
   "execution_count": 49,
   "metadata": {},
   "outputs": [
    {
     "name": "stdout",
     "output_type": "stream",
     "text": [
      " * ibm_db_sa://rqy96889:***@19af6446-6171-4641-8aba-9dcff8e1b6ff.c1ogj3sd0tgtu0lqde00.databases.appdomain.cloud:30699/BLUDB\n",
      "Done.\n"
     ]
    },
    {
     "data": {
      "text/html": [
       "<table>\n",
       "    <tr>\n",
       "        <th>community_area_name</th>\n",
       "    </tr>\n",
       "    <tr>\n",
       "        <td>Riverdale</td>\n",
       "    </tr>\n",
       "</table>"
      ],
      "text/plain": [
       "[('Riverdale',)]"
      ]
     },
     "execution_count": 49,
     "metadata": {},
     "output_type": "execute_result"
    }
   ],
   "source": [
    "# Problem 9: Use a sub-query to find the name of the community area with highest hardship index.\n",
    "\n",
    "%sql select COMMUNITY_AREA_NAME \\\n",
    "from CENSUS_DATA \\\n",
    "where HARDSHIP_INDEX = (SELECT MAX(HARDSHIP_INDEX) FROM CENSUS_DATA);"
   ]
  },
  {
   "cell_type": "code",
   "execution_count": 114,
   "metadata": {},
   "outputs": [
    {
     "name": "stdout",
     "output_type": "stream",
     "text": [
      " * ibm_db_sa://rqy96889:***@19af6446-6171-4641-8aba-9dcff8e1b6ff.c1ogj3sd0tgtu0lqde00.databases.appdomain.cloud:30699/BLUDB\n",
      "Done.\n"
     ]
    },
    {
     "data": {
      "text/html": [
       "<table>\n",
       "    <tr>\n",
       "        <th>community_area_name</th>\n",
       "    </tr>\n",
       "    <tr>\n",
       "        <td>Austin</td>\n",
       "    </tr>\n",
       "</table>"
      ],
      "text/plain": [
       "[('Austin',)]"
      ]
     },
     "execution_count": 114,
     "metadata": {},
     "output_type": "execute_result"
    }
   ],
   "source": [
    "# Problem 10: Use a sub-query to determine the Community Area Name with most number of crimes\n",
    "\n",
    "%sql SELECT COMMUNITY_AREA_NAME \\\n",
    "from CENSUS_DATA \\\n",
    "WHERE COMMUNITY_AREA_NUMBER = (SELECT CD.COMMUNITY_AREA_NUMBER FROM CHICAGO_CRIME_DATA AS CD \\\n",
    "GROUP BY CD.COMMUNITY_AREA_NUMBER \\\n",
    "ORDER BY COUNT(CD.COMMUNITY_AREA_NUMBER) DESC LIMIT 1)"
   ]
  },
  {
   "cell_type": "code",
   "execution_count": null,
   "metadata": {},
   "outputs": [],
   "source": []
  }
 ],
 "metadata": {
  "kernelspec": {
   "display_name": "Python 3",
   "language": "python",
   "name": "python3"
  },
  "language_info": {
   "codemirror_mode": {
    "name": "ipython",
    "version": 3
   },
   "file_extension": ".py",
   "mimetype": "text/x-python",
   "name": "python",
   "nbconvert_exporter": "python",
   "pygments_lexer": "ipython3",
   "version": "3.8.8"
  }
 },
 "nbformat": 4,
 "nbformat_minor": 1
}
